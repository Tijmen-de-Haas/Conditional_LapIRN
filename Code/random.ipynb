{
 "cells": [
  {
   "cell_type": "code",
   "execution_count": 3,
   "metadata": {},
   "outputs": [
    {
     "ename": "ModuleNotFoundError",
     "evalue": "No module named 'nibabel'",
     "output_type": "error",
     "traceback": [
      "\u001b[1;31m---------------------------------------------------------------------------\u001b[0m",
      "\u001b[1;31mModuleNotFoundError\u001b[0m                       Traceback (most recent call last)",
      "Cell \u001b[1;32mIn[3], line 1\u001b[0m\n\u001b[1;32m----> 1\u001b[0m \u001b[39mimport\u001b[39;00m \u001b[39mnibabel\u001b[39;00m \u001b[39mas\u001b[39;00m \u001b[39mnib\u001b[39;00m\n\u001b[0;32m      2\u001b[0m \u001b[39mimport\u001b[39;00m \u001b[39mmatplotlib\u001b[39;00m\u001b[39m.\u001b[39;00m\u001b[39mpyplot\u001b[39;00m \u001b[39mas\u001b[39;00m \u001b[39mplt\u001b[39;00m\n\u001b[0;32m      4\u001b[0m \u001b[39m# Load the NIfTI file\u001b[39;00m\n",
      "\u001b[1;31mModuleNotFoundError\u001b[0m: No module named 'nibabel'"
     ]
    }
   ],
   "source": [
    "import nibabel as nib\n",
    "import matplotlib.pyplot as plt\n",
    "\n",
    "# Load the NIfTI file\n",
    "nifti = nib.load('D:/ismi_data/NLST/imagesTr/NLST_0001_0000.nii.gz')\n",
    "\n",
    "# Get the image data as a 3D numpy array\n",
    "image_data_0 = nifti.get_fdata()\n",
    "\n",
    "# Load the NIfTI file\n",
    "nifti = nib.load('D:/ismi_data/NLST/imagesTr/NLST_0001_0001.nii.gz')\n",
    "\n",
    "# Get the image data as a 3D numpy array\n",
    "image_data_1 = nifti.get_fdata()\n",
    "\n",
    "# Plot a slice of the image\n",
    "plt.imshow(image_data_0[100,:,:], cmap='gray')\n",
    "plt.show()\n",
    "plt.imshow(image_data_1[100,:,:], cmap='gray')\n",
    "plt.show()\n",
    "# Plot a slice of the image\n",
    "plt.imshow(image_data_0[:,100,:], cmap='gray')\n",
    "plt.show()\n",
    "plt.imshow(image_data_1[:,100,:], cmap='gray')\n",
    "plt.show()\n",
    "# Plot a slice of the image\n",
    "plt.imshow(image_data_0[:,:,100], cmap='gray')\n",
    "plt.show()\n",
    "plt.imshow(image_data_1[:,:,100], cmap='gray')\n",
    "plt.show()"
   ]
  },
  {
   "cell_type": "code",
   "execution_count": null,
   "metadata": {},
   "outputs": [
    {
     "name": "stdout",
     "output_type": "stream",
     "text": [
      "Requirement already satisfied: nibabel in c:\\users\\tijme\\appdata\\roaming\\python\\python311\\site-packages (5.1.0)\n",
      "Requirement already satisfied: numpy>=1.19 in c:\\python311\\lib\\site-packages (from nibabel) (1.24.3)\n",
      "Requirement already satisfied: packaging>=17 in c:\\users\\tijme\\appdata\\roaming\\python\\python311\\site-packages (from nibabel) (23.1)\n"
     ]
    }
   ],
   "source": [
    "!pip install nibabel"
   ]
  },
  {
   "cell_type": "code",
   "execution_count": null,
   "metadata": {},
   "outputs": [],
   "source": []
  }
 ],
 "metadata": {
  "kernelspec": {
   "display_name": "base",
   "language": "python",
   "name": "python3"
  },
  "language_info": {
   "codemirror_mode": {
    "name": "ipython",
    "version": 3
   },
   "file_extension": ".py",
   "mimetype": "text/x-python",
   "name": "python",
   "nbconvert_exporter": "python",
   "pygments_lexer": "ipython3",
   "version": "3.8.2"
  },
  "orig_nbformat": 4
 },
 "nbformat": 4,
 "nbformat_minor": 2
}
